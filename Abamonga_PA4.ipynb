{
 "cells": [
  {
   "cell_type": "markdown",
   "id": "f829b1c7-8333-4d9e-8571-9d41e11d11b5",
   "metadata": {},
   "source": [
    "**Michelle Sophia A. Abamonga**\\\n",
    "2 -ECEB\\\n",
    "PA 2 - NUMERICAL PYTHON (NUMPY)"
   ]
  },
  {
   "cell_type": "markdown",
   "id": "1005b706-98c1-488e-afe2-7d619d50c7cd",
   "metadata": {},
   "source": [
    "## ECE BOARD EXAM PROBLEM: \n",
    "Using data wrangling and data visualization technique with storytelling, analyze the data and present different (i) data frames; and (ii) visuals using the dataset given."
   ]
  },
  {
   "cell_type": "markdown",
   "id": "57691f6d-667e-43d2-9018-3e6e8aa5a36e",
   "metadata": {},
   "source": [
    "#### 1. Import the essential libraries in Python\n",
    "Note: Matplotlib is a library for data visualization, typically in the form of plots, graphs and charts."
   ]
  },
  {
   "cell_type": "code",
   "execution_count": 38,
   "id": "1494d379-b91d-45f8-84cc-58d2e8ae3141",
   "metadata": {
    "collapsed": true,
    "jupyter": {
     "outputs_hidden": true
    }
   },
   "outputs": [
    {
     "name": "stderr",
     "output_type": "stream",
     "text": [
      "Matplotlib is building the font cache; this may take a moment.\n"
     ]
    }
   ],
   "source": [
    "import pandas as pd\n",
    "import matplotlib.pyplot as plt"
   ]
  },
  {
   "cell_type": "markdown",
   "id": "20ebb882-c415-4f85-8955-a88b6e713a64",
   "metadata": {},
   "source": [
    "#### 2. Load the corresponding .excel file into a data frame\n",
    "Note: Make sure that the .xlsx file is downloaded to your default user folder in order for it to be accessible."
   ]
  },
  {
   "cell_type": "code",
   "execution_count": 39,
   "id": "b904f892-99ca-49c9-b92d-156b9e473049",
   "metadata": {},
   "outputs": [],
   "source": [
    "data = pd.read_excel('board2.xlsx')"
   ]
  },
  {
   "cell_type": "markdown",
   "id": "4b4831d8-ae13-4764-a72c-057b75157179",
   "metadata": {},
   "source": [
    "#### 3. Create the data frame for instrumentation\n",
    "The syntax utilizes boolean logic to filter a DataFrame, data, based on specific criteria related to student characteristics. It checks for three conditions: whether the 'Track' is 'Instrumentation', the 'Hometown' is 'Luzon', and the 'Electronics' score is greater than 70. The result is a new DataFrame, Instru, that contains only the 'Name', 'GEAS', and 'Electronics' columns for students who meet all these criteria."
   ]
  },
  {
   "cell_type": "code",
   "execution_count": 41,
   "id": "ac808c04-7d94-4f6a-817d-cc30a75a599d",
   "metadata": {},
   "outputs": [
    {
     "data": {
      "text/html": [
       "<div>\n",
       "<style scoped>\n",
       "    .dataframe tbody tr th:only-of-type {\n",
       "        vertical-align: middle;\n",
       "    }\n",
       "\n",
       "    .dataframe tbody tr th {\n",
       "        vertical-align: top;\n",
       "    }\n",
       "\n",
       "    .dataframe thead th {\n",
       "        text-align: right;\n",
       "    }\n",
       "</style>\n",
       "<table border=\"1\" class=\"dataframe\">\n",
       "  <thead>\n",
       "    <tr style=\"text-align: right;\">\n",
       "      <th></th>\n",
       "      <th>Name</th>\n",
       "      <th>GEAS</th>\n",
       "      <th>Electronics</th>\n",
       "    </tr>\n",
       "  </thead>\n",
       "  <tbody>\n",
       "    <tr>\n",
       "      <th>0</th>\n",
       "      <td>S1</td>\n",
       "      <td>75</td>\n",
       "      <td>89</td>\n",
       "    </tr>\n",
       "    <tr>\n",
       "      <th>7</th>\n",
       "      <td>S8</td>\n",
       "      <td>64</td>\n",
       "      <td>81</td>\n",
       "    </tr>\n",
       "    <tr>\n",
       "      <th>29</th>\n",
       "      <td>S30</td>\n",
       "      <td>57</td>\n",
       "      <td>81</td>\n",
       "    </tr>\n",
       "  </tbody>\n",
       "</table>\n",
       "</div>"
      ],
      "text/plain": [
       "   Name  GEAS  Electronics\n",
       "0    S1    75           89\n",
       "7    S8    64           81\n",
       "29  S30    57           81"
      ]
     },
     "execution_count": 41,
     "metadata": {},
     "output_type": "execute_result"
    }
   ],
   "source": [
    "Instru = data[(data['Track'] == 'Instrumentation') & (data['Hometown'] == 'Luzon') & (data['Electronics'] > 70)][['Name', 'GEAS', 'Electronics']]\n",
    "Instru"
   ]
  },
  {
   "cell_type": "markdown",
   "id": "7a566744-182f-4da9-8f2d-47dc94a5a625",
   "metadata": {},
   "source": [
    "#### 3. Create a new column 'Average' in the original data frame\n",
    "The syntax computes the average scores for each student across four subjects—'Math', 'Electronics', 'GEAS', and 'Communication'—and adds this average as a new column named 'Average' in the DataFrame."
   ]
  },
  {
   "cell_type": "code",
   "execution_count": 63,
   "id": "f7b6ae24-31f3-466a-bcd1-473c05f02808",
   "metadata": {},
   "outputs": [],
   "source": [
    "data['Average'] = data[['Math', 'Electronics', 'GEAS', 'Communication']].mean(axis=1)"
   ]
  },
  {
   "cell_type": "markdown",
   "id": "b4753304-6382-4573-a40c-843414f8abb5",
   "metadata": {},
   "source": [
    "#### 4. Create the data frame for Mindy\n",
    "The syntax filters the DataFrame data to create a new DataFrame named Mindy, which includes only female students from Mindanao with an average score of 55 or higher. The resulting DataFrame contains the students' names, tracks, electronics scores, and average scores, allowing for focused analysis on this specific group."
   ]
  },
  {
   "cell_type": "code",
   "execution_count": 69,
   "id": "72f99c4e-f0c0-42bd-9fba-7c6abe2912ab",
   "metadata": {},
   "outputs": [
    {
     "data": {
      "text/html": [
       "<div>\n",
       "<style scoped>\n",
       "    .dataframe tbody tr th:only-of-type {\n",
       "        vertical-align: middle;\n",
       "    }\n",
       "\n",
       "    .dataframe tbody tr th {\n",
       "        vertical-align: top;\n",
       "    }\n",
       "\n",
       "    .dataframe thead th {\n",
       "        text-align: right;\n",
       "    }\n",
       "</style>\n",
       "<table border=\"1\" class=\"dataframe\">\n",
       "  <thead>\n",
       "    <tr style=\"text-align: right;\">\n",
       "      <th></th>\n",
       "      <th>Name</th>\n",
       "      <th>Track</th>\n",
       "      <th>Electronics</th>\n",
       "      <th>Average</th>\n",
       "    </tr>\n",
       "  </thead>\n",
       "  <tbody>\n",
       "    <tr>\n",
       "      <th>1</th>\n",
       "      <td>S2</td>\n",
       "      <td>Communication</td>\n",
       "      <td>75</td>\n",
       "      <td>67.25</td>\n",
       "    </tr>\n",
       "    <tr>\n",
       "      <th>2</th>\n",
       "      <td>S3</td>\n",
       "      <td>Instrumentation</td>\n",
       "      <td>74</td>\n",
       "      <td>72.75</td>\n",
       "    </tr>\n",
       "    <tr>\n",
       "      <th>14</th>\n",
       "      <td>S15</td>\n",
       "      <td>Microelectronics</td>\n",
       "      <td>41</td>\n",
       "      <td>59.00</td>\n",
       "    </tr>\n",
       "    <tr>\n",
       "      <th>16</th>\n",
       "      <td>S17</td>\n",
       "      <td>Microelectronics</td>\n",
       "      <td>79</td>\n",
       "      <td>70.50</td>\n",
       "    </tr>\n",
       "    <tr>\n",
       "      <th>19</th>\n",
       "      <td>S20</td>\n",
       "      <td>Communication</td>\n",
       "      <td>60</td>\n",
       "      <td>66.50</td>\n",
       "    </tr>\n",
       "  </tbody>\n",
       "</table>\n",
       "</div>"
      ],
      "text/plain": [
       "   Name             Track  Electronics  Average\n",
       "1    S2     Communication           75    67.25\n",
       "2    S3   Instrumentation           74    72.75\n",
       "14  S15  Microelectronics           41    59.00\n",
       "16  S17  Microelectronics           79    70.50\n",
       "19  S20     Communication           60    66.50"
      ]
     },
     "execution_count": 69,
     "metadata": {},
     "output_type": "execute_result"
    }
   ],
   "source": [
    "Mindy = data.loc[(data['Hometown'] == 'Mindanao') & (data['Gender'] == 'Female') & (data['Average'] >= 55), ['Name', 'Track', 'Electronics', 'Average']]\n",
    "Mindy"
   ]
  },
  {
   "cell_type": "markdown",
   "id": "377fa4c2-3fc8-4249-a5b2-b21d11572d6f",
   "metadata": {},
   "source": [
    "#### 4. Calculate the average grade for each track, gender, and hometown\n",
    "The syntax calculates the average scores of students in the DataFrame data by grouping them based on their 'Track', 'Gender', and 'Hometown'. It creates three separate variables—track_ave, gender_ave, and hometown_ave—that store the average scores for each group, facilitating comparative analysis of student performance across these categories."
   ]
  },
  {
   "cell_type": "code",
   "execution_count": 165,
   "id": "f45a6577-6cc7-45cb-b27c-80d74a20b252",
   "metadata": {},
   "outputs": [],
   "source": [
    "track_ave = data.groupby('Track')['Average'].mean()\n",
    "gender_ave = data.groupby('Gender')['Average'].mean()\n",
    "hometown_ave = data.groupby('Hometown')['Average'].mean()"
   ]
  },
  {
   "cell_type": "markdown",
   "id": "5d7c8470-7f1d-43da-93e8-0fb2c027437c",
   "metadata": {},
   "source": [
    "#### 5. Create a visualization showing the different features contributing to average grade"
   ]
  },
  {
   "cell_type": "code",
   "execution_count": 222,
   "id": "971ba155-6784-4e95-b91b-29265fdb5f41",
   "metadata": {},
   "outputs": [
    {
     "data": {
      "image/png": "[encoded data removed]",
      "text/plain": [
       "<Figure size 1500x500 with 3 Axes>"
      ]
     },
     "metadata": {},
     "output_type": "display_data"
    }
   ],
   "source": [
    "# Create a figure with 3 subplots in one row\n",
    "fig, ax = plt.subplots(1, 3, figsize=(15, 5))\n",
    "\n",
    "# Customize colors for each plot\n",
    "colors = ['pink', 'green', 'blue']\n",
    "\n",
    "# Plot 1: Average grades for each track\n",
    "ax[0].bar(track_ave.index, track_ave.values, color=colors[0])\n",
    "ax[0].set_title('Average Grade - Track')\n",
    "ax[0].set_xlabel('Track')\n",
    "ax[0].set_ylabel('Average Grade')\n",
    "\n",
    "# Plot 2: Average grades for each gender\n",
    "ax[1].bar(gender_ave.index, gender_ave.values, color=colors[1])\n",
    "ax[1].set_title('Average Grade - Gender')\n",
    "ax[1].set_xlabel('Gender')\n",
    "ax[1].set_ylabel('Average Grade')\n",
    "\n",
    "# Plot 3: Average grades for each hometown\n",
    "ax[2].bar(hometown_ave.index, hometown_ave.values, color=colors[2])\n",
    "ax[2].set_title('Average Grade - Hometown')\n",
    "ax[2].set_xlabel('Hometown')\n",
    "ax[2].set_ylabel('Average Grade')\n",
    "\n",
    "# Ensure proper layout and spacing\n",
    "plt.tight_layout()\n",
    "\n",
    "# Display the plot\n",
    "plt.show()"
   ]
  }
 ],
 "metadata": {
  "kernelspec": {
   "display_name": "anaconda-panel-2023.05-py310",
   "language": "python",
   "name": "conda-env-anaconda-panel-2023.05-py310-py"
  },
  "language_info": {
   "codemirror_mode": {
    "name": "ipython",
    "version": 3
   },
   "file_extension": ".py",
   "mimetype": "text/x-python",
   "name": "python",
   "nbconvert_exporter": "python",
   "pygments_lexer": "ipython3",
   "version": "3.11.5"
  }
 },
 "nbformat": 4,
 "nbformat_minor": 5
}
